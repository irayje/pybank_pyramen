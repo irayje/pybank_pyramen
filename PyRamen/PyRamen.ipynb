{
 "cells": [
  {
   "cell_type": "code",
   "execution_count": 1,
   "metadata": {},
   "outputs": [],
   "source": [
    "#import pathing libraries\n",
    "from pathlib import Path\n",
    "import csv"
   ]
  },
  {
   "cell_type": "code",
   "execution_count": 2,
   "metadata": {},
   "outputs": [],
   "source": [
    "#set file path for data\n",
    "menu_filepath = Path(\"Resources/menu_data.csv\")\n",
    "sales_filepath = Path(\"Resources/sales_data.csv\")"
   ]
  },
  {
   "cell_type": "code",
   "execution_count": 3,
   "metadata": {},
   "outputs": [],
   "source": [
    "#set list to store csv\n",
    "menu = []\n",
    "sales = []"
   ]
  },
  {
   "cell_type": "code",
   "execution_count": 5,
   "metadata": {},
   "outputs": [],
   "source": [
    "#read menu file and add menu to empty menu list\n",
    "with open(menu_filepath, 'r') as csvfile:\n",
    "    menureader = csv.reader(csvfile, delimiter=',')\n",
    "    header = next(menureader)\n",
    "    for item in menureader:\n",
    "        menu.append(item)"
   ]
  },
  {
   "cell_type": "code",
   "execution_count": 6,
   "metadata": {},
   "outputs": [],
   "source": [
    "#read sales file and add to empty sales list\n",
    "with open(sales_filepath, 'r') as csvfile:\n",
    "    salesreader = csv.reader(csvfile, delimiter=',')\n",
    "    header = next(salesreader)\n",
    "    for reciept in salesreader:\n",
    "        sales.append(reciept)"
   ]
  },
  {
   "cell_type": "code",
   "execution_count": 7,
   "metadata": {},
   "outputs": [],
   "source": [
    "#create empty report dictionary\n",
    "report = {}"
   ]
  },
  {
   "cell_type": "code",
   "execution_count": 8,
   "metadata": {},
   "outputs": [
    {
     "name": "stdout",
     "output_type": "stream",
     "text": [
      "[['1', '01-01-2017', '7437926611570799', '1', 'spicy miso ramen'], ['2', '01-01-2017', '7437926611570799', '1', 'spicy miso ramen'], ['3', '01-01-2017', '8421920068932819', '3', 'tori paitan ramen'], ['4', '01-01-2017', '8421920068932819', '3', 'tori paitan ramen'], ['5', '01-01-2017', '4787310681569648', '1', 'truffle butter ramen'], ['6', '01-01-2017', '4787310681569648', '1', 'truffle butter ramen'], ['7', '01-01-2017', '8252818705821725', '1', 'tonkotsu ramen']]\n"
     ]
    }
   ],
   "source": [
    "#check sales data\n",
    "print(sales[0:7])"
   ]
  },
  {
   "cell_type": "code",
   "execution_count": 9,
   "metadata": {},
   "outputs": [],
   "source": [
    "#set empty menu items to store list of unique menu items\n",
    "Menu_Item = []"
   ]
  },
  {
   "cell_type": "code",
   "execution_count": 10,
   "metadata": {},
   "outputs": [],
   "source": [
    "#for loop for menu items in sales and add to empty menu list with unique items\n",
    "for items in sales:\n",
    "    if items[::][4] not in Menu_Item: \n",
    "            Menu_Item.append(items[::][4])"
   ]
  },
  {
   "cell_type": "code",
   "execution_count": 11,
   "metadata": {},
   "outputs": [
    {
     "name": "stdout",
     "output_type": "stream",
     "text": [
      "['spicy miso ramen', 'tori paitan ramen', 'truffle butter ramen', 'tonkotsu ramen', 'vegetarian spicy miso', 'shio ramen', 'miso crab ramen', 'nagomi shoyu', 'soft-shell miso crab ramen', 'burnt garlic tonkotsu ramen', 'vegetarian curry + king trumpet mushroom ramen']\n"
     ]
    }
   ],
   "source": [
    "#check unique items\n",
    "print(Menu_Item[0:20])"
   ]
  },
  {
   "cell_type": "code",
   "execution_count": 13,
   "metadata": {},
   "outputs": [],
   "source": [
    "#set dictionary for sales of dish\n",
    "dish_sales = {}"
   ]
  },
  {
   "cell_type": "code",
   "execution_count": 21,
   "metadata": {},
   "outputs": [],
   "source": [
    "#Attempt one, checked unique dish in unique menu and tried to create a dictionary with zero\n",
    "for dish in Menu_Item:\n",
    "    if dish == sales[::][4]:\n",
    "        dish_sales = dish_sales.update({dish:0})"
   ]
  },
  {
   "cell_type": "code",
   "execution_count": 22,
   "metadata": {},
   "outputs": [
    {
     "name": "stdout",
     "output_type": "stream",
     "text": [
      "None\n"
     ]
    }
   ],
   "source": [
    "print(dish_sales)"
   ]
  },
  {
   "cell_type": "code",
   "execution_count": 29,
   "metadata": {},
   "outputs": [],
   "source": [
    "#Attempt two, tried to run each individual dish to get it to add the quantity to the dictionary but did not work\n",
    "for dish in Menu_Item:\n",
    "    if dish[0] == sales[::][4]:\n",
    "         dish_sales = dish_sales.update({dish[0]:+ sales[::][3]})"
   ]
  },
  {
   "cell_type": "code",
   "execution_count": 30,
   "metadata": {},
   "outputs": [
    {
     "name": "stdout",
     "output_type": "stream",
     "text": [
      "None\n"
     ]
    }
   ],
   "source": [
    "#got nothing in return \n",
    "print(dish_sales)"
   ]
  },
  {
   "cell_type": "code",
   "execution_count": 20,
   "metadata": {},
   "outputs": [],
   "source": [
    "#this the part where I got stuck and cannot figure out the script to write the rest since the above returns 'none'\n",
    "#the next steps and goals would have been\n",
    "#figure out how to nest a dictionary into a list into a dictionary into a list\n",
    "\n",
    "\n",
    "\n"
   ]
  }
 ],
 "metadata": {
  "kernelspec": {
   "display_name": "Python 3",
   "language": "python",
   "name": "python3"
  },
  "language_info": {
   "codemirror_mode": {
    "name": "ipython",
    "version": 3
   },
   "file_extension": ".py",
   "mimetype": "text/x-python",
   "name": "python",
   "nbconvert_exporter": "python",
   "pygments_lexer": "ipython3",
   "version": "3.7.1"
  }
 },
 "nbformat": 4,
 "nbformat_minor": 2
}
